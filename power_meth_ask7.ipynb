{
 "cells": [
  {
   "cell_type": "code",
   "execution_count": 1,
   "metadata": {},
   "outputs": [],
   "source": [
    "import numpy as np"
   ]
  },
  {
   "cell_type": "code",
   "execution_count": 2,
   "metadata": {},
   "outputs": [
    {
     "name": "stdout",
     "output_type": "stream",
     "text": [
      "[ 8.62771868 13.         14.37228132]\n",
      "[[ 5.41774320e-01  7.07106781e-01 -4.54401349e-01]\n",
      " [-6.42620551e-01 -1.11022302e-15 -7.66184591e-01]\n",
      " [ 5.41774320e-01 -7.07106781e-01 -4.54401349e-01]]\n"
     ]
    },
    {
     "data": {
      "text/plain": [
       "14.372281323269013"
      ]
     },
     "execution_count": 2,
     "metadata": {},
     "output_type": "execute_result"
    }
   ],
   "source": [
    "A = np.array([[12,2,-1],\n",
    "             [2,12,2],\n",
    "             [-1,2,12]])\n",
    "eigenvalues, eigenvectors = np.linalg.eigh(A)\n",
    "print(eigenvalues)\n",
    "print(eigenvectors)\n",
    "eigenvalues.max()"
   ]
  },
  {
   "cell_type": "code",
   "execution_count": 3,
   "metadata": {},
   "outputs": [],
   "source": [
    "def power_method(A, x, n=1, print_everything = True, rayleigh = False):\n",
    "    '''Power method for computation of maximum abs(lambda)\n",
    "        \n",
    "        Input:\n",
    "            A nxn matrix\n",
    "            x starting nx1 vector (x_0)\n",
    "            n = 1 (default) the maximum number of iterations\n",
    "            print_everything = True (default) prints status of method in every iteration\n",
    "            rayleigh = False (default) if True, algorithm uses the Rayleigh quotient for eigenvalue approximation\n",
    "        \n",
    "        Output:\n",
    "            x normalized eigenvector approximation at the n-iteration\n",
    "            v the eigenvalue approximation at the n-iternation\n",
    "    '''\n",
    "    norm_x = np.linalg.norm(x,np.inf)\n",
    "    for k in range(n):\n",
    "        y = np.matmul(A,x)\n",
    "        norm_y = np.linalg.norm(y,np.inf)\n",
    "        x = (1./norm_y)*y\n",
    "        if rayleigh:\n",
    "            Ax = np.matmul(A,x)\n",
    "            norm_x_A = np.matmul(x,Ax)\n",
    "            norm_x_2 = np.linalg.norm(x,2) \n",
    "            v = norm_x_A / np.square(norm_x_2)\n",
    "        else:        \n",
    "            v = norm_y/norm_x\n",
    "        norm_x = np.linalg.norm(x, np.inf)\n",
    "        \n",
    "        if print_everything:\n",
    "            print_power_meth_status(k,x,v)\n",
    "    return x, v\n",
    "\n",
    "def print_power_meth_status(k,x,v):\n",
    "    print(\"iteration: \", k+1)\n",
    "    print(\"eigenvector: \", x)\n",
    "    print(\"eigenvalue: \", v)\n",
    "    print(\"\")"
   ]
  },
  {
   "cell_type": "code",
   "execution_count": 4,
   "metadata": {},
   "outputs": [
    {
     "name": "stdout",
     "output_type": "stream",
     "text": [
      "iteration:  1\n",
      "eigenvector:  [ 1.          0.16666667 -0.08333333]\n",
      "eigenvalue:  12.0\n",
      "\n",
      "iteration:  2\n",
      "eigenvector:  [ 1.          0.30872483 -0.13422819]\n",
      "eigenvalue:  12.416666666666668\n",
      "\n",
      "iteration:  3\n",
      "eigenvector:  [ 1.          0.42631579 -0.15631579]\n",
      "eigenvalue:  12.751677852348994\n",
      "\n",
      "iteration:  4\n",
      "eigenvector:  [ 1.          0.52295991 -0.15552049]\n",
      "eigenvalue:  13.008947368421053\n",
      "\n",
      "iteration:  5\n",
      "eigenvector:  [ 1.          0.60330371 -0.13788845]\n",
      "eigenvalue:  13.201440304244043\n",
      "\n"
     ]
    }
   ],
   "source": [
    "x0 = np.float64(np.array([1,0,0]))\n",
    "eigenvect, eigenval = power_method(A,x0,n=5,print_everything = True)"
   ]
  },
  {
   "cell_type": "code",
   "execution_count": 5,
   "metadata": {},
   "outputs": [
    {
     "name": "stdout",
     "output_type": "stream",
     "text": [
      "iteration:  1\n",
      "eigenvector:  [ 1.          0.16666667 -0.08333333]\n",
      "eigenvalue:  12.751677852348994\n",
      "\n",
      "iteration:  2\n",
      "eigenvector:  [ 1.          0.30872483 -0.13422819]\n",
      "eigenvalue:  13.201440304244047\n",
      "\n",
      "iteration:  3\n",
      "eigenvector:  [ 1.          0.42631579 -0.15631579]\n",
      "eigenvalue:  13.451968613159979\n",
      "\n",
      "iteration:  4\n",
      "eigenvector:  [ 1.          0.52295991 -0.15552049]\n",
      "eigenvalue:  13.600985441880505\n",
      "\n",
      "iteration:  5\n",
      "eigenvector:  [ 1.          0.60330371 -0.13788845]\n",
      "eigenvalue:  13.703728651256876\n",
      "\n"
     ]
    }
   ],
   "source": [
    "eigenvect, eigenval_Rayleigh = power_method(A,x0,n=5,print_everything = True, rayleigh=True)"
   ]
  },
  {
   "cell_type": "code",
   "execution_count": 6,
   "metadata": {},
   "outputs": [
    {
     "name": "stdout",
     "output_type": "stream",
     "text": [
      "[ 8.62771868 13.         14.37228132]\n",
      "13.201440304244043\n"
     ]
    },
    {
     "data": {
      "text/plain": [
       "13.703728651256876"
      ]
     },
     "execution_count": 6,
     "metadata": {},
     "output_type": "execute_result"
    }
   ],
   "source": [
    "print(eigenvalues)\n",
    "print(eigenval)\n",
    "eigenval_Rayleigh"
   ]
  },
  {
   "cell_type": "code",
   "execution_count": 7,
   "metadata": {},
   "outputs": [
    {
     "data": {
      "text/plain": [
       "14.372493490511925"
      ]
     },
     "execution_count": 7,
     "metadata": {},
     "output_type": "execute_result"
    }
   ],
   "source": [
    "eigenvect, eigenval = power_method(A,x0,n=21,print_everything = False)\n",
    "eigenval"
   ]
  },
  {
   "cell_type": "code",
   "execution_count": 8,
   "metadata": {},
   "outputs": [
    {
     "data": {
      "text/plain": [
       "14.371556242482995"
      ]
     },
     "execution_count": 8,
     "metadata": {},
     "output_type": "execute_result"
    }
   ],
   "source": [
    "eigenvect, eigenval_Rayleigh = power_method(A,x0,n=42,print_everything = False, rayleigh=True)\n",
    "eigenval_Rayleigh"
   ]
  },
  {
   "cell_type": "code",
   "execution_count": null,
   "metadata": {},
   "outputs": [],
   "source": []
  }
 ],
 "metadata": {
  "kernelspec": {
   "display_name": "Python 3",
   "language": "python",
   "name": "python3"
  },
  "language_info": {
   "codemirror_mode": {
    "name": "ipython",
    "version": 3
   },
   "file_extension": ".py",
   "mimetype": "text/x-python",
   "name": "python",
   "nbconvert_exporter": "python",
   "pygments_lexer": "ipython3",
   "version": "3.8.1"
  }
 },
 "nbformat": 4,
 "nbformat_minor": 4
}
