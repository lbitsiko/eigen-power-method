{
 "cells": [
  {
   "cell_type": "code",
   "execution_count": 1,
   "metadata": {},
   "outputs": [],
   "source": [
    "import numpy as np\n",
    "import numpy.linalg as LA"
   ]
  },
  {
   "cell_type": "code",
   "execution_count": 2,
   "metadata": {},
   "outputs": [],
   "source": [
    "def power_method(A, x, n=1, print_everything = True, rayleigh = False):\n",
    "    '''Power method for computation of maximum abs(lambda)\n",
    "        \n",
    "        Input:\n",
    "            A nxn matrix\n",
    "            x starting nx1 vector (x_0)\n",
    "            n = 1 (default) the maximum number of iterations\n",
    "            print_everything = True (default) prints status of method in every iteration\n",
    "            rayleigh = False (default) if True, algorithm uses the Rayleigh quotient for eigenvalue approximation\n",
    "        \n",
    "        Output:\n",
    "            x normalized eigenvector approximation at the n-iteration\n",
    "            v the eigenvalue approximation at the n-iternation for rayleigh method \n",
    "              and len(x) values computed, that all converge to lambda_max as n--> infty\n",
    "    '''\n",
    "    for k in range(n):\n",
    "        x_old = np.copy(x)\n",
    "        y = np.matmul(A,x)\n",
    "        norm_y = LA.norm(y)\n",
    "        x = (1./norm_y)*y\n",
    "        if rayleigh:\n",
    "            Ax = np.matmul(A,x)\n",
    "            v = np.matmul(x,Ax)\n",
    "        else:       \n",
    "            v = []\n",
    "            for i in range(len(x)):\n",
    "                if np.abs(x_old[i])<1e-10: continue \n",
    "                v.append(y[i]/x_old[i])\n",
    "        if print_everything: print_power_meth_status(k,x,v,rayleigh)\n",
    "    return x, v\n",
    "\n",
    "def print_power_meth_status(k,x,v,rayleigh):\n",
    "    print(\"iteration: \", k+1)\n",
    "    print(\"eigenvector: \", x)\n",
    "    if rayleigh:\n",
    "        print(\"eigenvalue: \", v)\n",
    "    else:\n",
    "        print(\"eigenvalue: \") \n",
    "        for v_k in v:\n",
    "            print(v_k)\n",
    "    print(\"\")"
   ]
  },
  {
   "cell_type": "code",
   "execution_count": 3,
   "metadata": {},
   "outputs": [
    {
     "name": "stdout",
     "output_type": "stream",
     "text": [
      "[0.45440135 0.76618459 0.45440135]\n",
      "[14.372281316211613, 14.372281323269014, 14.372281330326414]\n"
     ]
    },
    {
     "data": {
      "text/plain": [
       "array([[ 9.0324029 , -3.00378611, -3.96759707],\n",
       "       [-3.00378611,  3.56291282, -3.00378607],\n",
       "       [-3.96759707, -3.00378606,  9.03240296]])"
      ]
     },
     "execution_count": 3,
     "metadata": {},
     "output_type": "execute_result"
    }
   ],
   "source": [
    "#compute matrix A1 = A - lambda_1 u1 u1^T\n",
    "A = np.array([[12,2,-1],\n",
    "             [2,12,2],\n",
    "             [-1,2,12]])\n",
    "x0 = np.float64(np.array([1,0,0]))\n",
    "eigenvect1, eigenval1 = power_method(A,x0,n=200,print_everything = False)\n",
    "print(eigenvect1)\n",
    "print(eigenval1)\n",
    "u1u1T = [ [ eigenvect1[i] *eigenvect1[j] for j in range(len(eigenvect1))] for i in range(len(eigenvect1))]\n",
    "A_1 = A - np.multiply(eigenval1,u1u1T)\n",
    "A_1"
   ]
  },
  {
   "cell_type": "code",
   "execution_count": 4,
   "metadata": {},
   "outputs": [
    {
     "name": "stdout",
     "output_type": "stream",
     "text": [
      "[ 8.62771868 13.         14.37228132]\n"
     ]
    },
    {
     "data": {
      "text/plain": [
       "array([2.31266014e-09, 8.62771868e+00, 1.30000000e+01])"
      ]
     },
     "execution_count": 4,
     "metadata": {},
     "output_type": "execute_result"
    }
   ],
   "source": [
    "# Eigenvalues for A and A_1\n",
    "v,w = LA.eigh(A)\n",
    "print(v)\n",
    "v1, w1 = LA.eigh(A_1)\n",
    "v1"
   ]
  },
  {
   "cell_type": "code",
   "execution_count": 5,
   "metadata": {},
   "outputs": [
    {
     "name": "stdout",
     "output_type": "stream",
     "text": [
      "iteration:  1\n",
      "eigenvector:  [ 0.87586442 -0.29127458 -0.38473451]\n",
      "eigenvalue: \n",
      "9.032402903903364\n",
      "\n",
      "iteration:  2\n",
      "eigenvector:  [ 0.84321904 -0.20548141 -0.49674847]\n",
      "eigenvalue: \n",
      "11.774149232283703\n",
      "8.62771870703557\n",
      "15.790701233755586\n",
      "\n",
      "iteration:  3\n",
      "eigenvector:  [ 0.80842012 -0.14044865 -0.57160395]\n",
      "eigenvalue: \n",
      "12.101735899990837\n",
      "8.627718722393071\n",
      "14.524782515939147\n",
      "\n",
      "iteration:  4\n",
      "eigenvector:  [ 0.77907792 -0.09448285 -0.61976656]\n",
      "eigenvalue: \n",
      "12.359598489313266\n",
      "8.627718745533313\n",
      "13.90572059005253\n",
      "\n",
      "iteration:  5\n",
      "eigenvector:  [ 0.75687877 -0.0630882  -0.6505032 ]\n",
      "eigenvalue: \n",
      "12.552962494765822\n",
      "8.62771878040036\n",
      "13.561948760590372\n",
      "\n"
     ]
    }
   ],
   "source": [
    "eigenvect2, eigenval2 = power_method(A_1,x0,n=5,print_everything = True, rayleigh = False)"
   ]
  },
  {
   "cell_type": "code",
   "execution_count": 6,
   "metadata": {},
   "outputs": [
    {
     "name": "stdout",
     "output_type": "stream",
     "text": [
      "iteration:  1\n",
      "eigenvector:  [ 0.87586442 -0.29127458 -0.38473451]\n",
      "eigenvalue:  12.10173589983083\n",
      "\n",
      "iteration:  2\n",
      "eigenvector:  [ 0.84321904 -0.20548141 -0.49674847]\n",
      "eigenvalue:  12.552962494675851\n",
      "\n",
      "iteration:  3\n",
      "eigenvector:  [ 0.80842012 -0.14044865 -0.57160395]\n",
      "eigenvalue:  12.791150231264968\n",
      "\n",
      "iteration:  4\n",
      "eigenvector:  [ 0.77907792 -0.09448285 -0.61976656]\n",
      "eigenvalue:  12.905484119659306\n",
      "\n",
      "iteration:  5\n",
      "eigenvector:  [ 0.75687877 -0.0630882  -0.6505032 ]\n",
      "eigenvalue:  12.957859942136988\n",
      "\n"
     ]
    }
   ],
   "source": [
    "eigenvect2_rayl, eigenval2_rayl = power_method(A_1,x0,n=5,print_everything = True, rayleigh = True)"
   ]
  },
  {
   "cell_type": "code",
   "execution_count": 7,
   "metadata": {},
   "outputs": [
    {
     "name": "stdout",
     "output_type": "stream",
     "text": [
      "Power method: [13.0, 13.0, 13.0]\n",
      "using Rayleigh: 12.99999900076125\n"
     ]
    }
   ],
   "source": [
    "eigenvect2, eigenval2 = power_method(A_1,x0,n=100,print_everything = False, rayleigh = False)\n",
    "eigenvect2_rayl, eigenval2_rayl = power_method(A_1,x0,n=18,print_everything = False, rayleigh = True)\n",
    "print(\"Power method:\", eigenval2)\n",
    "print(\"using Rayleigh:\", eigenval2_rayl)"
   ]
  },
  {
   "cell_type": "code",
   "execution_count": null,
   "metadata": {},
   "outputs": [],
   "source": []
  }
 ],
 "metadata": {
  "kernelspec": {
   "display_name": "Python 3",
   "language": "python",
   "name": "python3"
  },
  "language_info": {
   "codemirror_mode": {
    "name": "ipython",
    "version": 3
   },
   "file_extension": ".py",
   "mimetype": "text/x-python",
   "name": "python",
   "nbconvert_exporter": "python",
   "pygments_lexer": "ipython3",
   "version": "3.7.7"
  }
 },
 "nbformat": 4,
 "nbformat_minor": 4
}
