{
 "cells": [
  {
   "cell_type": "code",
   "execution_count": 1,
   "metadata": {},
   "outputs": [],
   "source": [
    "import numpy as np\n",
    "import numpy.linalg as LA"
   ]
  },
  {
   "cell_type": "code",
   "execution_count": 2,
   "metadata": {},
   "outputs": [],
   "source": [
    "def power_method(A, x, n=1, print_everything = True, rayleigh = False):\n",
    "    '''Power method for computation of maximum abs(lambda)\n",
    "        \n",
    "        Input:\n",
    "            A nxn matrix\n",
    "            x starting nx1 vector (x_0)\n",
    "            n = 1 (default) the maximum number of iterations\n",
    "            print_everything = True (default) prints status of method in every iteration\n",
    "            rayleigh = False (default) if True, algorithm uses the Rayleigh quotient for eigenvalue approximation\n",
    "        \n",
    "        Output:\n",
    "            x normalized eigenvector approximation at the n-iteration\n",
    "            v the eigenvalue approximation at the n-iternation\n",
    "    '''\n",
    "    norm_x = LA.norm(x)\n",
    "    for k in range(n):\n",
    "        y = np.matmul(A,x)\n",
    "        norm_y = LA.norm(y)\n",
    "        x = (1./norm_y)*y\n",
    "        if rayleigh:\n",
    "            Ax = np.matmul(A,x)\n",
    "            v = np.matmul(x,Ax)\n",
    "        else:       \n",
    "            v = norm_y/norm_x\n",
    "        norm_x = LA.norm(x)\n",
    "        if print_everything: print_power_meth_status(k,x,v)\n",
    "    return x, v\n",
    "\n",
    "def print_power_meth_status(k,x,v):\n",
    "    print(\"iteration: \", k+1)\n",
    "    print(\"eigenvector: \", x)\n",
    "    print(\"eigenvalue: \", v)\n",
    "    print(\"\")"
   ]
  },
  {
   "cell_type": "code",
   "execution_count": 3,
   "metadata": {},
   "outputs": [
    {
     "name": "stdout",
     "output_type": "stream",
     "text": [
      "[0.48090712 0.76563272 0.427241  ]\n",
      "14.369981844407159\n"
     ]
    },
    {
     "data": {
      "text/plain": [
       "array([[ 8.67663043, -3.2910019 , -3.95250301],\n",
       "       [-3.2910019 ,  3.57641049, -2.70056029],\n",
       "       [-3.95250301, -2.70056029,  9.37697724]])"
      ]
     },
     "execution_count": 3,
     "metadata": {},
     "output_type": "execute_result"
    }
   ],
   "source": [
    "#compute matrix A1 = A - lambda_1 u1 u1^T\n",
    "A = np.array([[12,2,-1],\n",
    "             [2,12,2],\n",
    "             [-1,2,12]])\n",
    "x0 = np.float64(np.array([1,0,0]))\n",
    "eigenvect1, eigenval1 = power_method(A,x0,n=37,print_everything = False)\n",
    "print(eigenvect1)\n",
    "print(eigenval1)\n",
    "u1u1T = [ [ eigenvect1[i] *eigenvect1[j] for j in range(len(eigenvect1))] for i in range(len(eigenvect1))]\n",
    "A_1 = A - np.multiply(eigenval1,u1u1T)\n",
    "A_1"
   ]
  },
  {
   "cell_type": "code",
   "execution_count": 4,
   "metadata": {},
   "outputs": [
    {
     "name": "stdout",
     "output_type": "stream",
     "text": [
      "[ 8.62771868 13.         14.37228132]\n"
     ]
    },
    {
     "data": {
      "text/plain": [
       "array([1.15087925e-04, 8.62771868e+00, 1.30021844e+01])"
      ]
     },
     "execution_count": 4,
     "metadata": {},
     "output_type": "execute_result"
    }
   ],
   "source": [
    "# Eigenvalues for A and A_1\n",
    "v,w = LA.eigh(A)\n",
    "print(v)\n",
    "v1, w1 = LA.eigh(A_1)\n",
    "v1"
   ]
  },
  {
   "cell_type": "code",
   "execution_count": 5,
   "metadata": {},
   "outputs": [
    {
     "name": "stdout",
     "output_type": "stream",
     "text": [
      "iteration:  1\n",
      "eigenvector:  [ 0.86022463 -0.32627884 -0.39186185]\n",
      "eigenvalue:  10.086470596588196\n",
      "\n",
      "iteration:  2\n",
      "eigenvector:  [ 0.82704747 -0.24103967 -0.50783104]\n",
      "eigenvalue:  12.195757809749763\n",
      "\n",
      "iteration:  3\n",
      "eigenvector:  [ 0.79146485 -0.17552044 -0.58547073]\n",
      "eigenvalue:  12.605046187949304\n",
      "\n",
      "iteration:  4\n",
      "eigenvector:  [ 0.76136837 -0.12883369 -0.63538972]\n",
      "eigenvalue:  12.817660023154385\n",
      "\n",
      "iteration:  5\n",
      "eigenvector:  [ 0.73856742 -0.09679756 -0.66719442]\n",
      "eigenvalue:  12.918906729064656\n",
      "\n"
     ]
    }
   ],
   "source": [
    "eigenvect2, eigenval2 = power_method(A_1,x0,n=5,print_everything = True, rayleigh = False)"
   ]
  },
  {
   "cell_type": "code",
   "execution_count": 6,
   "metadata": {},
   "outputs": [
    {
     "name": "stdout",
     "output_type": "stream",
     "text": [
      "iteration:  1\n",
      "eigenvector:  [ 0.86022463 -0.32627884 -0.39186185]\n",
      "eigenvalue:  12.062730787206174\n",
      "\n",
      "iteration:  2\n",
      "eigenvector:  [ 0.82704747 -0.24103967 -0.50783104]\n",
      "eigenvalue:  12.532020030802112\n",
      "\n",
      "iteration:  3\n",
      "eigenvector:  [ 0.79146485 -0.17552044 -0.58547073]\n",
      "eigenvalue:  12.781915698476858\n",
      "\n",
      "iteration:  4\n",
      "eigenvector:  [ 0.76136837 -0.12883369 -0.63538972]\n",
      "eigenvalue:  12.902385152128595\n",
      "\n",
      "iteration:  5\n",
      "eigenvector:  [ 0.73856742 -0.09679756 -0.66719442]\n",
      "eigenvalue:  12.957673359858777\n",
      "\n"
     ]
    }
   ],
   "source": [
    "eigenvect2_rayl, eigenval2_rayl = power_method(A_1,x0,n=5,print_everything = True, rayleigh = True)"
   ]
  },
  {
   "cell_type": "code",
   "execution_count": 7,
   "metadata": {},
   "outputs": [
    {
     "name": "stdout",
     "output_type": "stream",
     "text": [
      "n=1\n",
      "Rayleigh 12.062730787206174\n",
      "simple 10.086470596588196\n",
      "n=2\n",
      "Rayleigh 12.532020030802112\n",
      "simple 12.195757809749763\n"
     ]
    }
   ],
   "source": [
    "# comparison\n",
    "print(\"n=1\")\n",
    "eigenvect2, eigenval2 = power_method(A_1,x0,n=1,print_everything = False, rayleigh = True)\n",
    "print(\"Rayleigh\",eigenval2)\n",
    "eigenvect2, eigenval2 = power_method(A_1,x0,n=1,print_everything = False, rayleigh = False)\n",
    "print(\"simple\",eigenval2)\n",
    "print(\"n=2\")\n",
    "eigenvect2, eigenval2 = power_method(A_1,x0,n=2,print_everything = False, rayleigh = True)\n",
    "print(\"Rayleigh\",eigenval2)\n",
    "eigenvect2, eigenval2 = power_method(A_1,x0,n=2,print_everything = False, rayleigh = False)\n",
    "print(\"simple\",eigenval2)"
   ]
  }
 ],
 "metadata": {
  "kernelspec": {
   "display_name": "Python 3",
   "language": "python",
   "name": "python3"
  },
  "language_info": {
   "codemirror_mode": {
    "name": "ipython",
    "version": 3
   },
   "file_extension": ".py",
   "mimetype": "text/x-python",
   "name": "python",
   "nbconvert_exporter": "python",
   "pygments_lexer": "ipython3",
   "version": "3.8.1"
  }
 },
 "nbformat": 4,
 "nbformat_minor": 4
}
