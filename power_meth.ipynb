{
 "cells": [
  {
   "cell_type": "code",
   "execution_count": 4,
   "metadata": {},
   "outputs": [],
   "source": [
    "import numpy as np\n",
    "import numpy.linalg as LA"
   ]
  },
  {
   "cell_type": "code",
   "execution_count": 5,
   "metadata": {},
   "outputs": [
    {
     "name": "stdout",
     "output_type": "stream",
     "text": [
      "[ 8.62771868 13.         14.37228132]\n",
      "[[ 5.41774320e-01  7.07106781e-01 -4.54401349e-01]\n",
      " [-6.42620551e-01 -1.11022302e-15 -7.66184591e-01]\n",
      " [ 5.41774320e-01 -7.07106781e-01 -4.54401349e-01]]\n"
     ]
    },
    {
     "data": {
      "text/plain": [
       "14.372281323269013"
      ]
     },
     "execution_count": 5,
     "metadata": {},
     "output_type": "execute_result"
    }
   ],
   "source": [
    "A = np.array([[12,2,-1],\n",
    "             [2,12,2],\n",
    "             [-1,2,12]])\n",
    "eigenvalues, eigenvectors = np.linalg.eigh(A)\n",
    "print(eigenvalues)\n",
    "print(eigenvectors)\n",
    "eigenvalues.max()"
   ]
  },
  {
   "cell_type": "code",
   "execution_count": 12,
   "metadata": {},
   "outputs": [],
   "source": [
    "def power_method(A, x, n=1, print_everything = True, rayleigh = False):\n",
    "    '''Power method for computation of maximum abs(lambda)\n",
    "        \n",
    "        Input:\n",
    "            A nxn matrix\n",
    "            x starting nx1 vector (x_0)\n",
    "            n = 1 (default) the maximum number of iterations\n",
    "            print_everything = True (default) prints status of method in every iteration\n",
    "            rayleigh = False (default) if True, algorithm uses the Rayleigh quotient for eigenvalue approximation\n",
    "        \n",
    "        Output:\n",
    "            x normalized eigenvector approximation at the n-iteration\n",
    "            v the eigenvalue approximation at the n-iternation\n",
    "    '''\n",
    "    norm_x = LA.norm(x)\n",
    "    for k in range(n):\n",
    "        y = np.matmul(A,x)\n",
    "        norm_y = LA.norm(y)\n",
    "        x = (1./norm_y)*y\n",
    "        if rayleigh:\n",
    "            Ax = np.matmul(A,x)\n",
    "            norm_x_A = np.matmul(x,Ax)\n",
    "            norm_x_2 = LA.norm(x) \n",
    "            v = norm_x_A / np.square(norm_x_2)\n",
    "        else:        \n",
    "            v = norm_y/norm_x\n",
    "        norm_x = np.linalg.norm(x, np.inf)\n",
    "        \n",
    "        if print_everything:\n",
    "            print_power_meth_status(k,x,v)\n",
    "    return x, v\n",
    "\n",
    "def print_power_meth_status(k,x,v):\n",
    "    print(\"iteration: \", k+1)\n",
    "    print(\"eigenvector: \", x)\n",
    "    print(\"eigenvalue: \", v)\n",
    "    print(\"\")"
   ]
  },
  {
   "cell_type": "code",
   "execution_count": 13,
   "metadata": {},
   "outputs": [
    {
     "name": "stdout",
     "output_type": "stream",
     "text": [
      "iteration:  1\n",
      "eigenvector:  [ 0.9830783   0.16384638 -0.08192319]\n",
      "eigenvalue:  12.206555615733702\n",
      "\n",
      "iteration:  2\n",
      "eigenvector:  [ 0.94773821  0.29259032 -0.12721318]\n",
      "eigenvalue:  13.101367613090373\n",
      "\n",
      "iteration:  3\n",
      "eigenvector:  [ 0.91052941  0.38817306 -0.14233012]\n",
      "eigenvalue:  14.004685298350765\n",
      "\n"
     ]
    }
   ],
   "source": [
    "x0 = np.float64(np.array([1,0,0]))\n",
    "eigenvect, eigenval = power_method(A,x0,n=3,print_everything = True)"
   ]
  },
  {
   "cell_type": "code",
   "execution_count": 14,
   "metadata": {},
   "outputs": [
    {
     "name": "stdout",
     "output_type": "stream",
     "text": [
      "[11.84502918  6.19447535 -1.84214477]\n",
      "[12.75167785  5.43624161 -1.99328859]\n"
     ]
    },
    {
     "data": {
      "text/plain": [
       "14.004685298350765"
      ]
     },
     "execution_count": 14,
     "metadata": {},
     "output_type": "execute_result"
    }
   ],
   "source": [
    "#check that A*v = lambda*v and print lambda\n",
    "print(np.matmul(A,eigenvect))\n",
    "print(eigenval*eigenvect)\n",
    "eigenval"
   ]
  },
  {
   "cell_type": "code",
   "execution_count": 15,
   "metadata": {},
   "outputs": [
    {
     "name": "stdout",
     "output_type": "stream",
     "text": [
      "iteration:  1\n",
      "eigenvector:  [ 0.9830783   0.16384638 -0.08192319]\n",
      "eigenvalue:  12.206555615733702\n",
      "\n",
      "iteration:  2\n",
      "eigenvector:  [ 0.94773821  0.29259032 -0.12721318]\n",
      "eigenvalue:  13.101367613090373\n",
      "\n",
      "iteration:  3\n",
      "eigenvector:  [ 0.91052941  0.38817306 -0.14233012]\n",
      "eigenvalue:  14.004685298350765\n",
      "\n",
      "iteration:  4\n",
      "eigenvector:  [ 0.87784381  0.45907712 -0.1365227 ]\n",
      "eigenvalue:  14.819205000340109\n",
      "\n",
      "iteration:  5\n",
      "eigenvector:  [ 0.85033627  0.51301102 -0.11725155]\n",
      "eigenvalue:  15.524964452168241\n",
      "\n",
      "iteration:  6\n",
      "eigenvector:  [ 0.82675883  0.55535681 -0.08971425]\n",
      "eigenvalue:  16.140735810493123\n",
      "\n",
      "iteration:  7\n",
      "eigenvector:  [ 0.80567594  0.58956703 -0.0574194 ]\n",
      "eigenvalue:  16.696500245807222\n",
      "\n",
      "iteration:  8\n",
      "eigenvector:  [ 0.785997    0.61781173 -0.0227463 ]\n",
      "eigenvalue:  17.219916337963912\n",
      "\n",
      "iteration:  9\n",
      "eigenvector:  [0.76704222 0.64147139 0.01267632]\n",
      "eigenvalue:  17.73172981145456\n",
      "\n",
      "iteration:  10\n",
      "eigenvector:  [0.74846371 0.66145573 0.04773239]\n",
      "eigenvalue:  18.245451063256453\n",
      "\n",
      "iteration:  11\n",
      "eigenvector:  [0.73014183 0.67839759 0.08166777]\n",
      "eigenvalue:  18.768584579570827\n",
      "\n",
      "iteration:  12\n",
      "eigenvector:  [0.71209583 0.69276674 0.11399024]\n",
      "eigenvalue:  19.304158276026257\n",
      "\n",
      "iteration:  13\n",
      "eigenvector:  [0.69441745 0.70493482 0.1443998 ]\n",
      "eigenvalue:  19.852086211811397\n",
      "\n",
      "iteration:  14\n",
      "eigenvector:  [0.67722586 0.71521107 0.17273758]\n",
      "eigenvalue:  20.10573397157002\n",
      "\n"
     ]
    }
   ],
   "source": [
    "# more iterations to get a better approximation\n",
    "eigenvect, eigenval = power_method(A,x0,n=14,print_everything = True)"
   ]
  },
  {
   "cell_type": "code",
   "execution_count": 7,
   "metadata": {},
   "outputs": [
    {
     "data": {
      "text/plain": [
       "[[0.8965997462830562, 0.946889511127384, 0.22869249697229743],\n",
       " [0.946889511127384, 1.0, 0.2415197277874712],\n",
       " [0.22869249697229743, 0.2415197277874712, 0.058331778910534184]]"
      ]
     },
     "execution_count": 7,
     "metadata": {},
     "output_type": "execute_result"
    }
   ],
   "source": [
    "# second largest lambda\n",
    "u1u1T = [ [ eigenvect[i] *eigenvect[j] for j in range(len(eigenvect))] for i in range(len(eigenvect))]\n",
    "u1u1T"
   ]
  },
  {
   "cell_type": "code",
   "execution_count": 8,
   "metadata": {},
   "outputs": [
    {
     "data": {
      "text/plain": [
       "array([[12.89296395, 13.6161229 ,  3.2885623 ],\n",
       "       [13.6161229 , 14.37984341,  3.47301587],\n",
       "       [ 3.2885623 ,  3.47301587,  0.83880185]])"
      ]
     },
     "execution_count": 8,
     "metadata": {},
     "output_type": "execute_result"
    }
   ],
   "source": [
    "np.multiply(eigenval,u1u1T)"
   ]
  },
  {
   "cell_type": "code",
   "execution_count": 9,
   "metadata": {},
   "outputs": [
    {
     "data": {
      "text/plain": [
       "array([[ -0.89296395, -11.6161229 ,  -4.2885623 ],\n",
       "       [-11.6161229 ,  -2.37984341,  -1.47301587],\n",
       "       [ -4.2885623 ,  -1.47301587,  11.16119815]])"
      ]
     },
     "execution_count": 9,
     "metadata": {},
     "output_type": "execute_result"
    }
   ],
   "source": [
    "A_1 = A - np.multiply(eigenval,u1u1T)\n",
    "A_1"
   ]
  },
  {
   "cell_type": "code",
   "execution_count": 10,
   "metadata": {},
   "outputs": [
    {
     "data": {
      "text/plain": [
       "13.027618426068742"
      ]
     },
     "execution_count": 10,
     "metadata": {},
     "output_type": "execute_result"
    }
   ],
   "source": [
    "x0 = np.float64(np.array([1,0,0]))\n",
    "eigenvect2, eigenval2 = power_method(A_1,x0,n=13,print_everything = False)\n",
    "eigenval2"
   ]
  },
  {
   "cell_type": "code",
   "execution_count": 11,
   "metadata": {},
   "outputs": [
    {
     "name": "stdout",
     "output_type": "stream",
     "text": [
      "iteration:  1\n",
      "eigenvector:  [ 1.          0.16666667 -0.08333333]\n",
      "eigenvalue:  12.0\n",
      "\n",
      "iteration:  2\n",
      "eigenvector:  [ 1.          0.30872483 -0.13422819]\n",
      "eigenvalue:  12.416666666666668\n",
      "\n",
      "iteration:  3\n",
      "eigenvector:  [ 1.          0.42631579 -0.15631579]\n",
      "eigenvalue:  12.751677852348994\n",
      "\n",
      "iteration:  4\n",
      "eigenvector:  [ 1.          0.52295991 -0.15552049]\n",
      "eigenvalue:  13.008947368421053\n",
      "\n",
      "iteration:  5\n",
      "eigenvector:  [ 1.          0.60330371 -0.13788845]\n",
      "eigenvalue:  13.201440304244043\n",
      "\n"
     ]
    }
   ],
   "source": [
    "x0 = np.float64(np.array([1,0,0]))\n",
    "eigenvect, eigenval = power_method(A,x0,n=5,print_everything = True)"
   ]
  },
  {
   "cell_type": "code",
   "execution_count": 12,
   "metadata": {},
   "outputs": [
    {
     "name": "stdout",
     "output_type": "stream",
     "text": [
      "iteration:  1\n",
      "eigenvector:  [ 1.          0.16666667 -0.08333333]\n",
      "eigenvalue:  12.751677852348994\n",
      "\n",
      "iteration:  2\n",
      "eigenvector:  [ 1.          0.30872483 -0.13422819]\n",
      "eigenvalue:  13.201440304244047\n",
      "\n",
      "iteration:  3\n",
      "eigenvector:  [ 1.          0.42631579 -0.15631579]\n",
      "eigenvalue:  13.451968613159979\n",
      "\n",
      "iteration:  4\n",
      "eigenvector:  [ 1.          0.52295991 -0.15552049]\n",
      "eigenvalue:  13.600985441880505\n",
      "\n",
      "iteration:  5\n",
      "eigenvector:  [ 1.          0.60330371 -0.13788845]\n",
      "eigenvalue:  13.703728651256876\n",
      "\n"
     ]
    }
   ],
   "source": [
    "eigenvect, eigenval = power_method(A,x0,n=5,print_everything = True, rayleigh=True)"
   ]
  },
  {
   "cell_type": "code",
   "execution_count": 13,
   "metadata": {},
   "outputs": [
    {
     "data": {
      "text/plain": [
       "array([ 8.62771868, 13.        , 14.37228132])"
      ]
     },
     "execution_count": 13,
     "metadata": {},
     "output_type": "execute_result"
    }
   ],
   "source": [
    "eigenvalues"
   ]
  },
  {
   "cell_type": "code",
   "execution_count": null,
   "metadata": {},
   "outputs": [],
   "source": []
  }
 ],
 "metadata": {
  "kernelspec": {
   "display_name": "Python 3",
   "language": "python",
   "name": "python3"
  },
  "language_info": {
   "codemirror_mode": {
    "name": "ipython",
    "version": 3
   },
   "file_extension": ".py",
   "mimetype": "text/x-python",
   "name": "python",
   "nbconvert_exporter": "python",
   "pygments_lexer": "ipython3",
   "version": "3.8.1"
  }
 },
 "nbformat": 4,
 "nbformat_minor": 4
}
