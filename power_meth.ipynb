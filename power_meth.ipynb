{
 "cells": [
  {
   "cell_type": "code",
   "execution_count": 1,
   "metadata": {},
   "outputs": [],
   "source": [
    "import numpy as np"
   ]
  },
  {
   "cell_type": "code",
   "execution_count": 2,
   "metadata": {},
   "outputs": [
    {
     "data": {
      "text/plain": [
       "array([ 8.62771868, 13.        , 14.37228132])"
      ]
     },
     "execution_count": 2,
     "metadata": {},
     "output_type": "execute_result"
    }
   ],
   "source": [
    "# define matrix A\n",
    "# compute its egeinvalues and eigenvectors for comparison\n",
    "A = np.float64(np.array([[12,2,-1],\n",
    "                         [2,12,2],\n",
    "                         [-1,2,12]]))\n",
    "eigenvalues, v = np.linalg.eigh(A)\n",
    "eigenvalues"
   ]
  },
  {
   "cell_type": "code",
   "execution_count": 3,
   "metadata": {},
   "outputs": [],
   "source": [
    "# The power method algorithm\n",
    "# for computing lambda_1\n",
    "def power_method(A, x0, maxiter=1):\n",
    "    x = x0\n",
    "    n = A.shape[0]\n",
    "    for k in range(maxiter):\n",
    "        y = np.matmul(A,x)\n",
    "        normalization_factor = 1.0 / np.linalg.norm(y,2)\n",
    "        x = normalization_factor* y\n",
    "        Ax = np.matmul(A,x)\n",
    "        rayleigh = np.matmul(x.T, Ax)\n",
    "        print(\"iteration: \", k+1)\n",
    "        print(\"y: \", y.T)\n",
    "        print(\"x: \", x.T)\n",
    "        print(\"rayleigh:\", rayleigh)\n",
    "        print(\"\")\n",
    "    return x, rayleigh"
   ]
  },
  {
   "cell_type": "code",
   "execution_count": 5,
   "metadata": {},
   "outputs": [
    {
     "name": "stdout",
     "output_type": "stream",
     "text": [
      "iteration:  1\n",
      "y:  [ 7.5  6.  -5.5]\n",
      "x:  [ 0.67763093  0.54210474 -0.49692935]\n",
      "rayleigh: 13.06530612244898\n",
      "\n",
      "iteration:  2\n",
      "y:  [ 9.71270996  6.86666006 -5.5565736 ]\n",
      "x:  [ 0.73980636  0.5230259  -0.42323806]\n",
      "rayleigh: 13.288522105661986\n",
      "\n",
      "iteration:  3\n",
      "y:  [10.34696623  6.90944735 -4.77261129]\n",
      "x:  [ 0.77645888  0.51849998 -0.35814715]\n",
      "rayleigh: 13.423751567054602\n",
      "\n"
     ]
    }
   ],
   "source": [
    "x0 = np.float64(np.array([0.5,0.5,-0.5])) # input vector\n",
    "x, eigenvalue = power_method(A,x0,3)"
   ]
  }
 ],
 "metadata": {
  "kernelspec": {
   "display_name": "Python 3",
   "language": "python",
   "name": "python3"
  },
  "language_info": {
   "codemirror_mode": {
    "name": "ipython",
    "version": 3
   },
   "file_extension": ".py",
   "mimetype": "text/x-python",
   "name": "python",
   "nbconvert_exporter": "python",
   "pygments_lexer": "ipython3",
   "version": "3.7.7"
  }
 },
 "nbformat": 4,
 "nbformat_minor": 4
}
