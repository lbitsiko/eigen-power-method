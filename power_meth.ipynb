{
 "cells": [
  {
   "cell_type": "code",
   "execution_count": 1,
   "metadata": {},
   "outputs": [],
   "source": [
    "import numpy as np"
   ]
  },
  {
   "cell_type": "code",
   "execution_count": 2,
   "metadata": {},
   "outputs": [
    {
     "name": "stdout",
     "output_type": "stream",
     "text": [
      "[ 8.62771868 13.         14.37228132]\n",
      "[[ 5.41774320e-01  7.07106781e-01 -4.54401349e-01]\n",
      " [-6.42620551e-01 -1.11022302e-15 -7.66184591e-01]\n",
      " [ 5.41774320e-01 -7.07106781e-01 -4.54401349e-01]]\n"
     ]
    },
    {
     "data": {
      "text/plain": [
       "14.372281323269013"
      ]
     },
     "execution_count": 2,
     "metadata": {},
     "output_type": "execute_result"
    }
   ],
   "source": [
    "A = np.array([[12,2,-1],\n",
    "             [2,12,2],\n",
    "             [-1,2,12]])\n",
    "eigenvalues, eigenvectors = np.linalg.eigh(A)\n",
    "print(eigenvalues)\n",
    "print(eigenvectors)\n",
    "eigenvalues.max()"
   ]
  },
  {
   "cell_type": "code",
   "execution_count": 3,
   "metadata": {},
   "outputs": [],
   "source": [
    "def power_method(A, x, n=1, print_everything = True):\n",
    "    '''Power method for computation of maximum abs(lambda)\n",
    "        \n",
    "        Input:\n",
    "            A nxn matrix\n",
    "            x starting nx1 vector (x_0)\n",
    "            n = 1 (default) the maximum number of iterations\n",
    "            print_everything = True (default) prints status of method in every iteration\n",
    "        \n",
    "        Output:\n",
    "            x normalized eigenvector approximation at the n-iteration\n",
    "            v the eigenvalue approximation at the n-iternation\n",
    "    '''\n",
    "    norm_x = np.linalg.norm(x,np.inf)\n",
    "    for k in range(n):\n",
    "        y = np.matmul(A,x)\n",
    "        norm_y = np.linalg.norm(y,np.inf)\n",
    "        x = (1./norm_y)*y\n",
    "        v = norm_y/norm_x\n",
    "        norm_x = np.linalg.norm(x, np.inf)\n",
    "        \n",
    "        if print_everything:\n",
    "            print_power_meth_status(k,x,v)\n",
    "    return x, v\n",
    "\n",
    "def print_power_meth_status(k,x,v):\n",
    "    print(\"iteration: \", k+1)\n",
    "    print(\"eigenvector: \", x)\n",
    "    print(\"eigenvalue: \", v)\n",
    "    print(\"\")"
   ]
  },
  {
   "cell_type": "code",
   "execution_count": 4,
   "metadata": {},
   "outputs": [],
   "source": [
    "x0 = np.float64(np.array([1,0,0]))\n",
    "eigenvect, eigenval = power_method(A,x0,n=3,print_everything = False)"
   ]
  },
  {
   "cell_type": "code",
   "execution_count": 5,
   "metadata": {},
   "outputs": [
    {
     "name": "stdout",
     "output_type": "stream",
     "text": [
      "[13.00894737  6.80315789 -2.02315789]\n",
      "[12.75167785  5.43624161 -1.99328859]\n"
     ]
    },
    {
     "data": {
      "text/plain": [
       "12.751677852348994"
      ]
     },
     "execution_count": 5,
     "metadata": {},
     "output_type": "execute_result"
    }
   ],
   "source": [
    "#check that A*v = lambda*v and print lambda\n",
    "print(np.matmul(A,eigenvect))\n",
    "print(eigenval*eigenvect)\n",
    "eigenval"
   ]
  },
  {
   "cell_type": "code",
   "execution_count": 6,
   "metadata": {},
   "outputs": [
    {
     "name": "stdout",
     "output_type": "stream",
     "text": [
      "iteration:  1\n",
      "eigenvector:  [ 1.          0.16666667 -0.08333333]\n",
      "eigenvalue:  12.0\n",
      "\n",
      "iteration:  2\n",
      "eigenvector:  [ 1.          0.30872483 -0.13422819]\n",
      "eigenvalue:  12.416666666666668\n",
      "\n",
      "iteration:  3\n",
      "eigenvector:  [ 1.          0.42631579 -0.15631579]\n",
      "eigenvalue:  12.751677852348994\n",
      "\n",
      "iteration:  4\n",
      "eigenvector:  [ 1.          0.52295991 -0.15552049]\n",
      "eigenvalue:  13.008947368421053\n",
      "\n",
      "iteration:  5\n",
      "eigenvector:  [ 1.          0.60330371 -0.13788845]\n",
      "eigenvalue:  13.201440304244043\n",
      "\n",
      "iteration:  6\n",
      "eigenvector:  [ 1.          0.67172771 -0.1085132 ]\n",
      "eigenvalue:  13.344495862703035\n",
      "\n",
      "iteration:  7\n",
      "eigenvector:  [ 1.          0.73176695 -0.0712686 ]\n",
      "eigenvalue:  13.451968613159975\n",
      "\n",
      "iteration:  8\n",
      "eigenvector:  [ 1.          0.78602301 -0.02893942]\n",
      "eigenvalue:  13.53480250666729\n",
      "\n",
      "iteration:  9\n",
      "eigenvector:  [1.         0.83629215 0.01652623]\n",
      "eigenvalue:  13.600985441880502\n",
      "\n",
      "iteration:  10\n",
      "eigenvector:  [1.         0.88375124 0.06377382]\n",
      "eigenvalue:  13.656058063193042\n",
      "\n",
      "iteration:  11\n",
      "eigenvector:  [1.         0.92913125 0.11185192]\n",
      "eigenvalue:  13.703728651256878\n",
      "\n",
      "iteration:  12\n",
      "eigenvector:  [1.         0.97285606 0.1600771 ]\n",
      "eigenvalue:  13.746410575352288\n",
      "\n",
      "iteration:  13\n",
      "eigenvector:  [0.98508035 1.         0.20484135]\n",
      "eigenvalue:  13.994426910943817\n",
      "\n",
      "iteration:  14\n",
      "eigenvector:  [0.94688951 1.         0.24151973]\n",
      "eigenvalue:  14.379843411761042\n",
      "\n"
     ]
    }
   ],
   "source": [
    "# more iterations to get a better approximation\n",
    "eigenvect, eigenval = power_method(A,x0,n=14,print_everything = True)"
   ]
  },
  {
   "cell_type": "code",
   "execution_count": null,
   "metadata": {},
   "outputs": [],
   "source": []
  }
 ],
 "metadata": {
  "kernelspec": {
   "display_name": "Python 3",
   "language": "python",
   "name": "python3"
  },
  "language_info": {
   "codemirror_mode": {
    "name": "ipython",
    "version": 3
   },
   "file_extension": ".py",
   "mimetype": "text/x-python",
   "name": "python",
   "nbconvert_exporter": "python",
   "pygments_lexer": "ipython3",
   "version": "3.8.1"
  }
 },
 "nbformat": 4,
 "nbformat_minor": 4
}
