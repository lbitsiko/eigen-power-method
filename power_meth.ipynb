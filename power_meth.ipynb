{
 "cells": [
  {
   "cell_type": "code",
   "execution_count": 1,
   "metadata": {},
   "outputs": [],
   "source": [
    "import numpy as np\n",
    "import numpy.linalg as LA"
   ]
  },
  {
   "cell_type": "code",
   "execution_count": 2,
   "metadata": {},
   "outputs": [
    {
     "name": "stdout",
     "output_type": "stream",
     "text": [
      "[ 8.62771868 13.         14.37228132]\n",
      "[[ 5.41774320e-01  7.07106781e-01 -4.54401349e-01]\n",
      " [-6.42620551e-01 -1.11022302e-15 -7.66184591e-01]\n",
      " [ 5.41774320e-01 -7.07106781e-01 -4.54401349e-01]]\n"
     ]
    },
    {
     "data": {
      "text/plain": [
       "14.372281323269013"
      ]
     },
     "execution_count": 2,
     "metadata": {},
     "output_type": "execute_result"
    }
   ],
   "source": [
    "A = np.array([[12,2,-1],\n",
    "             [2,12,2],\n",
    "             [-1,2,12]])\n",
    "eigenvalues, eigenvectors = LA.eigh(A)\n",
    "print(eigenvalues)\n",
    "print(eigenvectors)\n",
    "eigenvalues.max()"
   ]
  },
  {
   "cell_type": "code",
   "execution_count": 3,
   "metadata": {},
   "outputs": [],
   "source": [
    "def power_method(A, x, n=1, print_everything = True):\n",
    "    '''Power method for computation of maximum abs(lambda)\n",
    "        \n",
    "        Input:\n",
    "            A nxn matrix\n",
    "            x starting nx1 vector (x_0)\n",
    "            n = 1 (default) the maximum number of iterations\n",
    "            print_everything = True (default) prints status of method in every iteration\n",
    "        \n",
    "        Output:\n",
    "            x normalized eigenvector approximation at the n-iteration\n",
    "            v the eigenvalue approximation at the n-iternation\n",
    "    '''\n",
    "    norm_x = LA.norm(x)\n",
    "    for k in range(n):\n",
    "        y = np.matmul(A,x)\n",
    "        norm_y = LA.norm(y)\n",
    "        x = (1./norm_y)*y\n",
    "        v = norm_y/norm_x\n",
    "        norm_x = LA.norm(x)\n",
    "        if print_everything: print_power_meth_status(k,x,v)\n",
    "    return x, v\n",
    "\n",
    "def print_power_meth_status(k,x,v):\n",
    "    print(\"iteration: \", k+1)\n",
    "    print(\"eigenvector: \", x)\n",
    "    print(\"eigenvalue: \", v)\n",
    "    print(\"\")"
   ]
  },
  {
   "cell_type": "code",
   "execution_count": 4,
   "metadata": {},
   "outputs": [
    {
     "name": "stdout",
     "output_type": "stream",
     "text": [
      "iteration:  1\n",
      "eigenvector:  [ 0.9830783   0.16384638 -0.08192319]\n",
      "eigenvalue:  12.206555615733702\n",
      "\n",
      "iteration:  2\n",
      "eigenvector:  [ 0.94773821  0.29259032 -0.12721318]\n",
      "eigenvalue:  12.87967026131758\n",
      "\n",
      "iteration:  3\n",
      "eigenvector:  [ 0.91052941  0.38817306 -0.14233012]\n",
      "eigenvalue:  13.272775351135333\n",
      "\n"
     ]
    }
   ],
   "source": [
    "x0 = np.float64(np.array([1,0,0]))\n",
    "eigenvect, eigenval = power_method(A,x0,n=3,print_everything = True)"
   ]
  },
  {
   "cell_type": "code",
   "execution_count": 5,
   "metadata": {},
   "outputs": [
    {
     "name": "stdout",
     "output_type": "stream",
     "text": [
      "[11.84502918  6.19447535 -1.84214477]\n",
      "[12.08525232  5.15213388 -1.88911576]\n"
     ]
    },
    {
     "data": {
      "text/plain": [
       "13.272775351135333"
      ]
     },
     "execution_count": 5,
     "metadata": {},
     "output_type": "execute_result"
    }
   ],
   "source": [
    "#check that A*v = lambda*v and print lambda\n",
    "print(np.matmul(A,eigenvect))\n",
    "print(eigenval*eigenvect)\n",
    "eigenval"
   ]
  },
  {
   "cell_type": "code",
   "execution_count": 6,
   "metadata": {},
   "outputs": [
    {
     "name": "stdout",
     "output_type": "stream",
     "text": [
      "[0.48090712 0.76563272 0.427241  ]\n"
     ]
    },
    {
     "data": {
      "text/plain": [
       "14.369981844407159"
      ]
     },
     "execution_count": 6,
     "metadata": {},
     "output_type": "execute_result"
    }
   ],
   "source": [
    "# more iterations to get a better approximation\n",
    "eigenvect, eigenval = power_method(A,x0,n=37,print_everything = False)\n",
    "print(eigenvect)\n",
    "eigenval"
   ]
  },
  {
   "cell_type": "code",
   "execution_count": 7,
   "metadata": {},
   "outputs": [
    {
     "data": {
      "text/plain": [
       "[[0.23127166133154042, 0.3681982311970557, 0.20546323890138893],\n",
       " [0.3681982311970557, 0.586193469083502, 0.3271096886836447],\n",
       " [0.20546323890138893, 0.3271096886836447, 0.18253486958495765]]"
      ]
     },
     "execution_count": 7,
     "metadata": {},
     "output_type": "execute_result"
    }
   ],
   "source": [
    "# second largest lambda\n",
    "u1u1T = [ [ eigenvect[i] *eigenvect[j] for j in range(len(eigenvect))] for i in range(len(eigenvect))]\n",
    "u1u1T"
   ]
  },
  {
   "cell_type": "code",
   "execution_count": 8,
   "metadata": {},
   "outputs": [
    {
     "data": {
      "text/plain": [
       "array([[3.32336957, 5.2910019 , 2.95250301],\n",
       "       [5.2910019 , 8.42358951, 4.70056029],\n",
       "       [2.95250301, 4.70056029, 2.62302276]])"
      ]
     },
     "execution_count": 8,
     "metadata": {},
     "output_type": "execute_result"
    }
   ],
   "source": [
    "np.multiply(eigenval,u1u1T)"
   ]
  },
  {
   "cell_type": "code",
   "execution_count": 9,
   "metadata": {},
   "outputs": [
    {
     "data": {
      "text/plain": [
       "array([[ 8.67663043, -3.2910019 , -3.95250301],\n",
       "       [-3.2910019 ,  3.57641049, -2.70056029],\n",
       "       [-3.95250301, -2.70056029,  9.37697724]])"
      ]
     },
     "execution_count": 9,
     "metadata": {},
     "output_type": "execute_result"
    }
   ],
   "source": [
    "A_1 = A - np.multiply(eigenval,u1u1T)\n",
    "A_1"
   ]
  },
  {
   "cell_type": "code",
   "execution_count": 10,
   "metadata": {},
   "outputs": [
    {
     "data": {
      "text/plain": [
       "12.998993824032917"
      ]
     },
     "execution_count": 10,
     "metadata": {},
     "output_type": "execute_result"
    }
   ],
   "source": [
    "x0 = np.float64(np.array([1,0,0]))\n",
    "eigenvect2, eigenval2 = power_method(A_1,x0,n=9,print_everything = False)\n",
    "eigenval2"
   ]
  },
  {
   "cell_type": "code",
   "execution_count": null,
   "metadata": {},
   "outputs": [],
   "source": []
  }
 ],
 "metadata": {
  "kernelspec": {
   "display_name": "Python 3",
   "language": "python",
   "name": "python3"
  },
  "language_info": {
   "codemirror_mode": {
    "name": "ipython",
    "version": 3
   },
   "file_extension": ".py",
   "mimetype": "text/x-python",
   "name": "python",
   "nbconvert_exporter": "python",
   "pygments_lexer": "ipython3",
   "version": "3.8.1"
  }
 },
 "nbformat": 4,
 "nbformat_minor": 4
}
