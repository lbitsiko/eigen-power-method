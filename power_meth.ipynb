{
 "cells": [
  {
   "cell_type": "code",
   "execution_count": 1,
   "metadata": {},
   "outputs": [],
   "source": [
    "import numpy as np"
   ]
  },
  {
   "cell_type": "code",
   "execution_count": 32,
   "metadata": {},
   "outputs": [
    {
     "name": "stdout",
     "output_type": "stream",
     "text": [
      "[ 8.62771868 13.         14.37228132]\n"
     ]
    },
    {
     "data": {
      "text/plain": [
       "array([[ 5.41774320e-01,  7.07106781e-01, -4.54401349e-01],\n",
       "       [-6.42620551e-01, -1.11022302e-15, -7.66184591e-01],\n",
       "       [ 5.41774320e-01, -7.07106781e-01, -4.54401349e-01]])"
      ]
     },
     "execution_count": 32,
     "metadata": {},
     "output_type": "execute_result"
    }
   ],
   "source": [
    "A = np.array([[12,2,-1],\n",
    "             [2,12,2],\n",
    "             [-1,2,12]])\n",
    "lambdas, v = np.linalg.eigh(A)\n",
    "print(lambdas)\n",
    "v"
   ]
  },
  {
   "cell_type": "code",
   "execution_count": 67,
   "metadata": {},
   "outputs": [],
   "source": [
    "def power_method(A, x0, maxiter=1):\n",
    "    x = x0\n",
    "    n = A.shape[0]\n",
    "    for k in range(maxiter):\n",
    "        y = np.matmul(A,x)\n",
    "        normalization_factor = 1.0 / np.linalg.norm(y,2)\n",
    "        x = normalization_factor* y\n",
    "        Ax = np.matmul(A,x)\n",
    "        rayleigh = np.matmul(x.T, Ax)\n",
    "        print(\"iteration: \", k+1)\n",
    "        print(\"x: \", x.T)\n",
    "        print(\"rayleigh:\", rayleigh)\n",
    "        print(\"\")\n",
    "    return x, rayleigh"
   ]
  },
  {
   "cell_type": "code",
   "execution_count": 76,
   "metadata": {},
   "outputs": [
    {
     "name": "stdout",
     "output_type": "stream",
     "text": [
      "iteration:  1\n",
      "x:  [ 0.9830783   0.16384638 -0.08192319]\n",
      "rayleigh: 12.751677852348996\n",
      "\n",
      "iteration:  2\n",
      "x:  [ 0.94773821  0.29259032 -0.12721318]\n",
      "rayleigh: 13.201440304244041\n",
      "\n",
      "iteration:  3\n",
      "x:  [ 0.91052941  0.38817306 -0.14233012]\n",
      "rayleigh: 13.451968613159977\n",
      "\n"
     ]
    }
   ],
   "source": [
    "x,lam = power_method(A,[1,0,0],3)"
   ]
  },
  {
   "cell_type": "code",
   "execution_count": null,
   "metadata": {},
   "outputs": [],
   "source": []
  }
 ],
 "metadata": {
  "kernelspec": {
   "display_name": "Python 3",
   "language": "python",
   "name": "python3"
  },
  "language_info": {
   "codemirror_mode": {
    "name": "ipython",
    "version": 3
   },
   "file_extension": ".py",
   "mimetype": "text/x-python",
   "name": "python",
   "nbconvert_exporter": "python",
   "pygments_lexer": "ipython3",
   "version": "3.8.1"
  }
 },
 "nbformat": 4,
 "nbformat_minor": 4
}
