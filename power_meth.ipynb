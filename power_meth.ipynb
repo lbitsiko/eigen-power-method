{
 "cells": [
  {
   "cell_type": "code",
   "execution_count": 1,
   "metadata": {},
   "outputs": [],
   "source": [
    "import numpy as np\n",
    "import numpy.linalg as LA"
   ]
  },
  {
   "cell_type": "code",
   "execution_count": 2,
   "metadata": {},
   "outputs": [
    {
     "name": "stdout",
     "output_type": "stream",
     "text": [
      "[ 8.62771868 13.         14.37228132]\n",
      "[[ 5.41774320e-01  7.07106781e-01 -4.54401349e-01]\n",
      " [-6.42620551e-01 -1.11022302e-15 -7.66184591e-01]\n",
      " [ 5.41774320e-01 -7.07106781e-01 -4.54401349e-01]]\n"
     ]
    },
    {
     "data": {
      "text/plain": [
       "14.372281323269013"
      ]
     },
     "execution_count": 2,
     "metadata": {},
     "output_type": "execute_result"
    }
   ],
   "source": [
    "A = np.array([[12,2,-1],\n",
    "             [2,12,2],\n",
    "             [-1,2,12]])\n",
    "eigenvalues, eigenvectors = LA.eigh(A)\n",
    "print(eigenvalues)\n",
    "print(eigenvectors)\n",
    "eigenvalues.max()"
   ]
  },
  {
   "cell_type": "code",
   "execution_count": 3,
   "metadata": {},
   "outputs": [],
   "source": [
    "def power_method(A, x, n=1, print_everything = True):\n",
    "    '''Power method for computation of maximum abs(lambda)\n",
    "        \n",
    "        Input:\n",
    "            A nxn matrix\n",
    "            x starting nx1 vector (x_0)\n",
    "            n = 1 (default) the maximum number of iterations\n",
    "            print_everything = True (default) prints status of method in every iteration\n",
    "        \n",
    "        Output:\n",
    "            x normalized eigenvector approximation at the n-iteration\n",
    "            vs the eigenvalue approximations at the n-iternation (len(x) values computed, that all converge to lambda_max as n--> infty)\n",
    "    '''\n",
    "    for k in range(n):\n",
    "        y = np.matmul(A,x)\n",
    "        norm_y = LA.norm(y)\n",
    "        vs = []\n",
    "        for i in range(len(x)):\n",
    "            if np.abs(x[i])<1e-10: continue \n",
    "            vs.append(y[i]/x[i])\n",
    "        x = (1./norm_y)*y  \n",
    "        if print_everything: print_power_meth_status(k,x,vs)\n",
    "    return x, vs\n",
    "\n",
    "def print_power_meth_status(k,x,vs):\n",
    "    print(\"iteration: \", k+1)\n",
    "    print(\"eigenvector: \", x)\n",
    "    print(\"eigenvalue: \") \n",
    "    for v in vs:\n",
    "        print(v)\n",
    "    print(\"\")"
   ]
  },
  {
   "cell_type": "code",
   "execution_count": 4,
   "metadata": {},
   "outputs": [
    {
     "name": "stdout",
     "output_type": "stream",
     "text": [
      "iteration:  1\n",
      "eigenvector:  [ 0.9830783   0.16384638 -0.08192319]\n",
      "eigenvalue: \n",
      "12.0\n",
      "\n",
      "iteration:  2\n",
      "eigenvector:  [ 0.94773821  0.29259032 -0.12721318]\n",
      "eigenvalue: \n",
      "12.416666666666666\n",
      "22.999999999999996\n",
      "19.999999999999996\n",
      "\n",
      "iteration:  3\n",
      "eigenvector:  [ 0.91052941  0.38817306 -0.14233012]\n",
      "eigenvalue: \n",
      "12.751677852348992\n",
      "17.608695652173914\n",
      "14.850000000000001\n",
      "\n"
     ]
    }
   ],
   "source": [
    "x0 = np.float64(np.array([1,0,0]))\n",
    "eigenvect, eigenval = power_method(A,x0,n=3,print_everything = True)"
   ]
  },
  {
   "cell_type": "code",
   "execution_count": 5,
   "metadata": {},
   "outputs": [
    {
     "name": "stdout",
     "output_type": "stream",
     "text": [
      "[0.45440135 0.76618459 0.45440135]\n"
     ]
    },
    {
     "data": {
      "text/plain": [
       "[14.372281316211613, 14.372281323269014, 14.372281330326414]"
      ]
     },
     "execution_count": 5,
     "metadata": {},
     "output_type": "execute_result"
    }
   ],
   "source": [
    "# more iterations to get a better approximation\n",
    "eigenvect, eigenval = power_method(A,x0,n=200,print_everything = False)\n",
    "print(eigenvect)\n",
    "eigenval"
   ]
  },
  {
   "cell_type": "code",
   "execution_count": 6,
   "metadata": {},
   "outputs": [
    {
     "data": {
      "text/plain": [
       "[[0.2064805879320809, 0.34815531353093826, 0.2064805860110756],\n",
       " [0.34815531353093826, 0.5870388279778488, 0.3481553102918531],\n",
       " [0.2064805860110756, 0.3481553102918531, 0.2064805840900703]]"
      ]
     },
     "execution_count": 6,
     "metadata": {},
     "output_type": "execute_result"
    }
   ],
   "source": [
    "# second largest lambda\n",
    "u1u1T = [ [ eigenvect[i] *eigenvect[j] for j in range(len(eigenvect))] for i in range(len(eigenvect))]\n",
    "u1u1T"
   ]
  },
  {
   "cell_type": "code",
   "execution_count": 7,
   "metadata": {},
   "outputs": [
    {
     "data": {
      "text/plain": [
       "array([[2.9675971 , 5.00378611, 2.96759707],\n",
       "       [5.00378611, 8.43708718, 5.00378607],\n",
       "       [2.96759707, 5.00378606, 2.96759704]])"
      ]
     },
     "execution_count": 7,
     "metadata": {},
     "output_type": "execute_result"
    }
   ],
   "source": [
    "eigenval1 = eigenval[0]\n",
    "np.multiply(eigenval,u1u1T)"
   ]
  },
  {
   "cell_type": "code",
   "execution_count": 8,
   "metadata": {},
   "outputs": [
    {
     "data": {
      "text/plain": [
       "array([[ 9.0324029 , -3.00378611, -3.96759707],\n",
       "       [-3.00378611,  3.56291282, -3.00378607],\n",
       "       [-3.96759707, -3.00378606,  9.03240296]])"
      ]
     },
     "execution_count": 8,
     "metadata": {},
     "output_type": "execute_result"
    }
   ],
   "source": [
    "A_1 = A - np.multiply(eigenval,u1u1T)\n",
    "A_1"
   ]
  },
  {
   "cell_type": "code",
   "execution_count": 9,
   "metadata": {},
   "outputs": [
    {
     "data": {
      "text/plain": [
       "[13.0, 13.0, 13.0]"
      ]
     },
     "execution_count": 9,
     "metadata": {},
     "output_type": "execute_result"
    }
   ],
   "source": [
    "x0 = np.float64(np.array([1,0,0]))\n",
    "eigenvect2, eigenval2 = power_method(A_1,x0,n=100,print_everything = False)\n",
    "eigenval2"
   ]
  },
  {
   "cell_type": "code",
   "execution_count": null,
   "metadata": {},
   "outputs": [],
   "source": []
  }
 ],
 "metadata": {
  "kernelspec": {
   "display_name": "Python 3",
   "language": "python",
   "name": "python3"
  },
  "language_info": {
   "codemirror_mode": {
    "name": "ipython",
    "version": 3
   },
   "file_extension": ".py",
   "mimetype": "text/x-python",
   "name": "python",
   "nbconvert_exporter": "python",
   "pygments_lexer": "ipython3",
   "version": "3.7.7"
  }
 },
 "nbformat": 4,
 "nbformat_minor": 4
}
